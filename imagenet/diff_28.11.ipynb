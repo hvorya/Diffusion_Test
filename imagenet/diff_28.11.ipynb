{
 "cells": [
  {
   "cell_type": "code",
   "execution_count": 40,
   "id": "573b276e-d1c3-47cb-a706-75a1b9139db2",
   "metadata": {},
   "outputs": [
    {
     "name": "stdout",
     "output_type": "stream",
     "text": [
      "Available kernels:\n",
      "  python3    D:\\anaconda\\envs\\mnist\\share\\jupyter\\kernels\\python3\n",
      "True\n"
     ]
    }
   ],
   "source": [
    "!jupyter kernelspec list\n",
    "import torch \n",
    "use_cuda = torch. cuda. is_available()\n",
    "print(use_cuda)"
   ]
  },
  {
   "cell_type": "code",
   "execution_count": 41,
   "id": "176aabdb-e81b-4f3d-afcd-f34a0b952eba",
   "metadata": {},
   "outputs": [
    {
     "name": "stdout",
     "output_type": "stream",
     "text": [
      "D:\\anaconda\\envs\\mnist\\python.exe\n",
      "['D:\\\\anaconda\\\\envs\\\\mnist\\\\python39.zip', 'D:\\\\anaconda\\\\envs\\\\mnist\\\\DLLs', 'D:\\\\anaconda\\\\envs\\\\mnist\\\\lib', 'D:\\\\anaconda\\\\envs\\\\mnist', '', 'C:\\\\Users\\\\hvory\\\\AppData\\\\Roaming\\\\Python\\\\Python39\\\\site-packages', 'D:\\\\anaconda\\\\envs\\\\mnist\\\\lib\\\\site-packages', 'D:\\\\anaconda\\\\envs\\\\mnist\\\\lib\\\\site-packages\\\\win32', 'D:\\\\anaconda\\\\envs\\\\mnist\\\\lib\\\\site-packages\\\\win32\\\\lib', 'D:\\\\anaconda\\\\envs\\\\mnist\\\\lib\\\\site-packages\\\\Pythonwin', 'D:\\\\anaconda\\\\envs\\\\mnist\\\\lib\\\\site-packages\\\\setuptools\\\\_vendor']\n"
     ]
    }
   ],
   "source": [
    "import sys\n",
    "print(sys.executable)  # This should point to your virtual environment’s Python\n",
    "print(sys.path)\n",
    "#!pip install --upgrade torch\n"
   ]
  },
  {
   "cell_type": "code",
   "execution_count": 42,
   "id": "31488170-36ac-4ad3-af5b-693fa97052d9",
   "metadata": {},
   "outputs": [
    {
     "name": "stdout",
     "output_type": "stream",
     "text": [
      "Requirement already satisfied: ipywidgets in d:\\anaconda\\envs\\mnist\\lib\\site-packages (8.1.5)\n",
      "Requirement already satisfied: comm>=0.1.3 in d:\\anaconda\\envs\\mnist\\lib\\site-packages (from ipywidgets) (0.2.1)\n",
      "Requirement already satisfied: ipython>=6.1.0 in d:\\anaconda\\envs\\mnist\\lib\\site-packages (from ipywidgets) (8.15.0)\n",
      "Requirement already satisfied: traitlets>=4.3.1 in d:\\anaconda\\envs\\mnist\\lib\\site-packages (from ipywidgets) (5.14.3)\n",
      "Requirement already satisfied: widgetsnbextension~=4.0.12 in d:\\anaconda\\envs\\mnist\\lib\\site-packages (from ipywidgets) (4.0.13)\n",
      "Requirement already satisfied: jupyterlab-widgets~=3.0.12 in d:\\anaconda\\envs\\mnist\\lib\\site-packages (from ipywidgets) (3.0.13)\n",
      "Requirement already satisfied: backcall in d:\\anaconda\\envs\\mnist\\lib\\site-packages (from ipython>=6.1.0->ipywidgets) (0.2.0)\n",
      "Requirement already satisfied: decorator in d:\\anaconda\\envs\\mnist\\lib\\site-packages (from ipython>=6.1.0->ipywidgets) (5.1.1)\n",
      "Requirement already satisfied: jedi>=0.16 in d:\\anaconda\\envs\\mnist\\lib\\site-packages (from ipython>=6.1.0->ipywidgets) (0.19.1)\n",
      "Requirement already satisfied: matplotlib-inline in d:\\anaconda\\envs\\mnist\\lib\\site-packages (from ipython>=6.1.0->ipywidgets) (0.1.6)\n",
      "Requirement already satisfied: pickleshare in d:\\anaconda\\envs\\mnist\\lib\\site-packages (from ipython>=6.1.0->ipywidgets) (0.7.5)\n",
      "Requirement already satisfied: prompt-toolkit!=3.0.37,<3.1.0,>=3.0.30 in d:\\anaconda\\envs\\mnist\\lib\\site-packages (from ipython>=6.1.0->ipywidgets) (3.0.43)\n",
      "Requirement already satisfied: pygments>=2.4.0 in d:\\anaconda\\envs\\mnist\\lib\\site-packages (from ipython>=6.1.0->ipywidgets) (2.15.1)\n",
      "Requirement already satisfied: stack-data in d:\\anaconda\\envs\\mnist\\lib\\site-packages (from ipython>=6.1.0->ipywidgets) (0.2.0)\n",
      "Requirement already satisfied: typing-extensions in d:\\anaconda\\envs\\mnist\\lib\\site-packages (from ipython>=6.1.0->ipywidgets) (4.11.0)\n",
      "Requirement already satisfied: exceptiongroup in d:\\anaconda\\envs\\mnist\\lib\\site-packages (from ipython>=6.1.0->ipywidgets) (1.2.0)\n",
      "Requirement already satisfied: colorama in d:\\anaconda\\envs\\mnist\\lib\\site-packages (from ipython>=6.1.0->ipywidgets) (0.4.6)\n",
      "Requirement already satisfied: parso<0.9.0,>=0.8.3 in d:\\anaconda\\envs\\mnist\\lib\\site-packages (from jedi>=0.16->ipython>=6.1.0->ipywidgets) (0.8.3)\n",
      "Requirement already satisfied: wcwidth in d:\\anaconda\\envs\\mnist\\lib\\site-packages (from prompt-toolkit!=3.0.37,<3.1.0,>=3.0.30->ipython>=6.1.0->ipywidgets) (0.2.5)\n",
      "Requirement already satisfied: executing in d:\\anaconda\\envs\\mnist\\lib\\site-packages (from stack-data->ipython>=6.1.0->ipywidgets) (0.8.3)\n",
      "Requirement already satisfied: asttokens in d:\\anaconda\\envs\\mnist\\lib\\site-packages (from stack-data->ipython>=6.1.0->ipywidgets) (2.0.5)\n",
      "Requirement already satisfied: pure-eval in d:\\anaconda\\envs\\mnist\\lib\\site-packages (from stack-data->ipython>=6.1.0->ipywidgets) (0.2.2)\n",
      "Requirement already satisfied: six in d:\\anaconda\\envs\\mnist\\lib\\site-packages (from asttokens->stack-data->ipython>=6.1.0->ipywidgets) (1.16.0)\n"
     ]
    }
   ],
   "source": [
    "#%%capture\n",
    "#!pip install tqdm\n",
    "#!pip install torch==2.2.2 torchvision==0.17.2 torchaudio==2.2.2 --index-url https://download.pytorch.org/whl/cu121\n",
    "#!pip install matplotlib\n",
    "#!pip install tqdm\n",
    "#!pip install numpy==1.24.0\n",
    "#!pip install --user --upgrade huggingface_hub huggingface\n",
    "#!pip install huggingface_hub\n",
    "!pip install ipywidgets\n",
    "#!pip install --user diffusers\n",
    "#!pip show huggingface_hub\n",
    "# !pip show diffusers\n",
    "# !pip show ipywidgets\n",
    "# !pip show huggingface\n",
    "# !pip show accelerate\n",
    "# !pip show diffusers\n",
    "#from diffusers.models.autoencoders import AutoencoderKL\n",
    "#from transformers import AutoImageProcessor\n",
    "#!pip install --upgrade pydevd"
   ]
  },
  {
   "cell_type": "code",
   "execution_count": 1,
   "id": "8610f267-eba9-4a23-8a71-13229165d7f8",
   "metadata": {},
   "outputs": [],
   "source": [
    "from dataclasses import dataclass\n",
    "import torchvision\n",
    "import torch\n",
    "import os\n",
    "import shutil\n",
    "import diffusers\n",
    "import torchvision.datasets as datasets\n",
    "import torch.utils.data as data\n",
    "import torchvision.transforms as transforms\n",
    "from torch.utils.data import ConcatDataset, DataLoader, WeightedRandomSampler\n",
    "import matplotlib.pyplot as plt\n",
    "from PIL import Image\n",
    "from diffusers import UNet2DModel\n",
    "from diffusers import DDPMScheduler\n",
    "from diffusers.optimization import get_cosine_schedule_with_warmup\n",
    "from accelerate import Accelerator\n",
    "#from diffusers.utils.hub_utils import init_git_repo, push_to_hub\n",
    "from datetime import datetime\n",
    "import torch.nn.functional as F\n",
    "from tqdm.auto import tqdm\n",
    "from diffusers import DDPMPipeline\n",
    "import numpy\n",
    "import math\n",
    "from accelerate import notebook_launcher\n",
    "from diffusers import DDPMPipeline\n",
    "import glob\n",
    "from torchvision.utils import save_image\n",
    "from torchvision import datasets\n",
    "from diffusers import DiffusionPipeline"
   ]
  },
  {
   "cell_type": "code",
   "execution_count": 2,
   "id": "faa606a6-b9b4-4720-bd9e-15e70d394f12",
   "metadata": {},
   "outputs": [],
   "source": [
    "@dataclass\n",
    "class TrainingConfig:\n",
    "    image_size = 28  # the generated image resolution\n",
    "    train_batch_size = 16 #48\n",
    "    eval_batch_size = 16 #48  # how many images to sample during evaluation\n",
    "    test_batch_size=1\n",
    "    num_epochs = 35\n",
    "    gradient_accumulation_steps = 1\n",
    "    learning_rate = 1e-4\n",
    "    lr_warmup_steps = 500\n",
    "    save_image_epochs = 5\n",
    "    save_model_epochs = 5\n",
    "    mixed_precision = 'fp16'  # `no` for float32, `fp16` for automatic mixed precision\n",
    "    output_dir ='C:\\\\Users\\\\hvory\\\\ISSBA-main\\\\MNist\\\\mnist'  # the model namy locally and on the HF Hub\n",
    "    log_dir=\"log\"\n",
    "    workers = 4\n",
    "\n",
    "    push_to_hub = True  # whether to upload the saved model to the HF Hub\n",
    "    hub_private_repo = False\n",
    "    overwrite_output_dir = True  # overwrite the old model when re-running the notebook\n",
    "    seed = 0\n",
    "\n",
    "config = TrainingConfig()"
   ]
  },
  {
   "cell_type": "code",
   "execution_count": 3,
   "id": "6fc54c33-2441-4b9c-b87b-427f7f54fea6",
   "metadata": {},
   "outputs": [
    {
     "name": "stdout",
     "output_type": "stream",
     "text": [
      "1243\n",
      "19888\n"
     ]
    }
   ],
   "source": [
    "data_transforms = {\n",
    "        'train': transforms.Compose([\n",
    "            #transforms.RandomRotation(20),\n",
    "           # transforms.RandomHorizontalFlip(0.5),\n",
    "            transforms.Resize((64, 64)),\n",
    "            transforms.ToTensor(),\n",
    "            #transforms.Normalize([0.4802, 0.4481, 0.3975], [0.2302, 0.2265, 0.2262]),\n",
    "        ]),\n",
    "        'val': transforms.Compose([\n",
    "            transforms.ToTensor(),\n",
    "            transforms.Resize((64, 64)),\n",
    "            #transforms.Normalize([0.4802, 0.4481, 0.3975], [0.2302, 0.2265, 0.2262]),\n",
    "        ])\n",
    "    }\n",
    "data_dir=\"C:\\\\Users\\\\hvory\\\\ISSBA-main\\\\MNist\\\\mnist\"\n",
    "#bd_data_dir= \"/scratch/project_2012241/bd_dataset/\"\n",
    "image_datasets = {'train': datasets.ImageFolder(os.path.join(data_dir, 'train'), data_transforms['train'])}\n",
    "#poison_datasets= {x: datasets.ImageFolder(os.path.join(bd_data_dir, x), data_transforms[x])\n",
    "                   # for x in ['train', 'val']}\n",
    "#print(image_datasets)\n",
    "#weights = [0.7]* len(image_datasets['train']) + [0.3] * len(poison_datasets['train'])\n",
    "#print(weights)\n",
    "#print([0.7] * len(image_datasets['train']))\n",
    "# Create a WeightedRandomSampler to control the proportions\n",
    "#sampler = WeightedRandomSampler(weights, len(weights))\n",
    "#sampler = WeightedRandomSampler(weights, num_samples=70000, replacement=True)\n",
    "#combined_dataset = ConcatDataset([image_datasets, poison_datasets])\n",
    "#combined_dataset = ConcatDataset([image_datasets['train'], poison_datasets['train']])\n",
    "#print(len(combined_dataset))\n",
    "train_loader = data.DataLoader(image_datasets['train'], batch_size=config.train_batch_size, shuffle=True, num_workers=config.workers)\n",
    "print(len(train_loader))\n",
    "print(len(image_datasets['train']))"
   ]
  },
  {
   "cell_type": "code",
   "execution_count": 4,
   "id": "d914a91d-9047-436b-93ce-26643acc611b",
   "metadata": {},
   "outputs": [],
   "source": [
    "model = UNet2DModel(\n",
    "    sample_size=config.image_size,  # the target image resolution\n",
    "    in_channels=3,  # the number of input channels, 3 for RGB images\n",
    "    out_channels=3,  # the number of output channels\n",
    "    layers_per_block=2,  # how many ResNet layers to use per UNet block\n",
    "    block_out_channels=(128, 128, 256, 256, 512, 512),  # the number of output channes for each UNet block\n",
    "    down_block_types=( \n",
    "        \"DownBlock2D\",  # a regular ResNet downsampling block\n",
    "        \"DownBlock2D\", \n",
    "        \"DownBlock2D\", \n",
    "        \"DownBlock2D\", \n",
    "        \"AttnDownBlock2D\",  # a ResNet downsampling block with spatial self-attention\n",
    "        \"DownBlock2D\",\n",
    "    ), \n",
    "    up_block_types=(\n",
    "        \"UpBlock2D\",  # a regular ResNet upsampling block\n",
    "        \"AttnUpBlock2D\",  # a ResNet upsampling block with spatial self-attention\n",
    "        \"UpBlock2D\", \n",
    "        \"UpBlock2D\", \n",
    "        \"UpBlock2D\", \n",
    "        \"UpBlock2D\"  \n",
    "      ),\n",
    ")\n",
    "# layer_outputs = {}\n",
    "\n",
    "# # Hook to capture outputs\n",
    "# def hook_fn(module, input, output):\n",
    "#     print(f\"Layer: {module}, Output shape: {output[0].shape}\")\n",
    "#     layer_outputs[module.__class__.__name__] = output\n",
    "\n",
    "# # Register hooks\n",
    "# for name, layer in model.named_modules():\n",
    "#     #print(name,layer)\n",
    "#     layer.register_forward_hook(hook_fn)\n",
    "\n",
    "# # Example input\n",
    "# noisy_image = torch.randn(1, 3,32, 32)  # Batch size of 1\n",
    "# timestep = torch.tensor([50])\n",
    "\n",
    "# # Forward pass\n",
    "# output = model(noisy_image, timestep)\n"
   ]
  },
  {
   "cell_type": "code",
   "execution_count": 5,
   "id": "f313f329-b32c-4f89-87f1-2d4f4ecadf36",
   "metadata": {},
   "outputs": [
    {
     "name": "stdout",
     "output_type": "stream",
     "text": [
      "torch.Size([3, 64, 64])\n",
      "torch.Size([3, 64, 64])\n",
      "torch.Size([3, 64, 64])\n",
      "torch.Size([3, 64, 64])\n",
      "torch.Size([3, 64, 64])\n"
     ]
    },
    {
     "name": "stderr",
     "output_type": "stream",
     "text": [
      "C:\\Users\\hvory\\AppData\\Local\\Temp\\ipykernel_7600\\4139979901.py:12: UserWarning: FigureCanvasAgg is non-interactive, and thus cannot be shown\n",
      "  fig.show()\n"
     ]
    },
    {
     "data": {
      "image/png": "[encoded data removed]",
      "text/plain": [
       "<Figure size 1600x400 with 5 Axes>"
      ]
     },
     "metadata": {},
     "output_type": "display_data"
    }
   ],
   "source": [
    "import matplotlib.pyplot as plt\n",
    "\n",
    "fig, axs = plt.subplots(1, 5, figsize=(16, 4))\n",
    "for i, (image, label) in enumerate(image_datasets['train']):\n",
    "    print(image.shape)\n",
    "    axs[i].imshow(image.permute(1, 2, 0).numpy())\n",
    "    axs[i].set_axis_off()\n",
    "    axs[i].set_title(f\"Label: {label}\")\n",
    "\n",
    "\n",
    "    if i >= 4: break\n",
    "fig.show()"
   ]
  },
  {
   "cell_type": "markdown",
   "id": "1b14f48e-3def-4a4d-9a83-745e484f1523",
   "metadata": {},
   "source": [
    "# Defining the noise scheduler\n"
   ]
  },
  {
   "cell_type": "code",
   "execution_count": 6,
   "id": "7643632f-b688-45db-9ecb-8669237dd7c3",
   "metadata": {},
   "outputs": [],
   "source": [
    "from diffusers import DDPMScheduler\n",
    "\n",
    "noise_scheduler = DDPMScheduler(num_train_timesteps=1000)"
   ]
  },
  {
   "cell_type": "code",
   "execution_count": 7,
   "id": "912585a1-5f55-4f06-9aab-93d5fe0cb0c5",
   "metadata": {},
   "outputs": [
    {
     "name": "stderr",
     "output_type": "stream",
     "text": [
      "C:\\Users\\hvory\\AppData\\Local\\Temp\\ipykernel_7600\\585540506.py:29: UserWarning: FigureCanvasAgg is non-interactive, and thus cannot be shown\n",
      "  fig.show()\n"
     ]
    },
    {
     "data": {
      "image/png": "[encoded data removed]",
      "text/plain": [
       "<Figure size 800x400 with 2 Axes>"
      ]
     },
     "metadata": {},
     "output_type": "display_data"
    }
   ],
   "source": [
    "import torch\n",
    "from PIL import Image\n",
    "import matplotlib.pyplot as plt\n",
    "\n",
    "\n",
    "#sample_image = train_loader[0][0].unsqueeze(0)\n",
    "sample_image, labels = next(iter(train_loader))  #`sample_images` is of shape [batch_size, channels, height, width]\n",
    "#print(sample_image[0])\n",
    "sample_img=Image.fromarray((sample_image[0].permute(1, 2, 0)* 255).type(torch.uint8).numpy())\n",
    "label=labels[0]\n",
    "#print(labels)\n",
    "noise = torch.randn(sample_image.shape)\n",
    "timesteps = torch.LongTensor([100])  #creates a 1-dimensional tensor of type LongTensor (64-bit integer) with a single value 50.\n",
    "noisy_image = noise_scheduler.add_noise(sample_image, noise, timesteps)\n",
    "#noisy_image.permute(0, 2, 3, 1) changes the dimensions from [batch, channels, height, width] to [batch, height, width, channels],\n",
    "#Multiplying by 255 scales the values to the [0, 255] range.\n",
    "#.type(torch.uint8) casts the tensor to an 8-bit integer format suitable for image data.\n",
    "#.numpy()[0] extracts the first (and only) image in the batch as a NumPy array.\n",
    "#Finally, Image.fromarray(...) converts this array into a PIL image.\n",
    "Image.fromarray((noisy_image.permute(0, 2, 3, 1) * 255).type(torch.uint8).numpy()[0])\n",
    "#fig is the main figure object, which represents the entire plotting area and figsize is the total area.\n",
    "fig, axs = plt.subplots(1, 2, figsize=(8, 4))\n",
    "axs[0].imshow(sample_img)\n",
    "axs[0].set_axis_off()\n",
    "axs[0].set_title(f\"Label: {label}\")\n",
    "axs[1].imshow(Image.fromarray((noisy_image.permute(0, 2, 3, 1) * 255).type(torch.uint8).numpy()[0]))\n",
    "axs[1].set_axis_off()\n",
    "axs[1].set_title(f\"Label: {label}\")\n",
    "fig.show()\n",
    "###########################################################################################\n"
   ]
  },
  {
   "cell_type": "markdown",
   "id": "351a6b2e-945d-416c-9812-76f42a8817ac",
   "metadata": {},
   "source": [
    "# Setting up Training"
   ]
  },
  {
   "cell_type": "code",
   "execution_count": 10,
   "id": "bd3cc5ab-40a8-4e94-816c-75d9274c6640",
   "metadata": {},
   "outputs": [],
   "source": [
    "optimizer = torch.optim.AdamW(model.parameters(), lr=config.learning_rate)\n"
   ]
  },
  {
   "cell_type": "code",
   "execution_count": 11,
   "id": "59bebaf6-1bb4-47e4-b390-5e0f7e381e54",
   "metadata": {},
   "outputs": [],
   "source": [
    "from diffusers.optimization import get_cosine_schedule_with_warmup\n",
    "\n",
    "lr_scheduler = get_cosine_schedule_with_warmup(\n",
    "    optimizer=optimizer,\n",
    "    num_warmup_steps=config.lr_warmup_steps,\n",
    "    num_training_steps=(len(train_loader) * config.num_epochs),\n",
    ")"
   ]
  },
  {
   "cell_type": "code",
   "execution_count": 12,
   "id": "64f24998-a463-4b56-b6c4-890d6fb6f5b8",
   "metadata": {},
   "outputs": [],
   "source": [
    "from accelerate import Accelerator\n",
    "#from diffusers.utils.hub_utils import init_git_repo, push_to_hub\n",
    "from datetime import datetime\n",
    "import torch.nn.functional as F\n",
    "from tqdm.auto import tqdm\n",
    "import os\n",
    "def train_loop(config, model, noise_scheduler, optimizer, train_dataloader, lr_scheduler):\n",
    "    # Initialize accelerator and tensorboard logging, A list of loggers to be \n",
    "    #setup for experiment tracking. Should be one or several of:\"all\",\"tensorboard\",\"wandb\"\n",
    "    accelerator = Accelerator(\n",
    "        mixed_precision=config.mixed_precision,\n",
    "        gradient_accumulation_steps=config.gradient_accumulation_steps, \n",
    "        log_with=\"tensorboard\",\n",
    "        project_dir=os.path.join(config.log_dir, \"logs\")\n",
    "    )\n",
    "    if accelerator.is_main_process:\n",
    "        #if config.push_to_hub:\n",
    "            #repo = init_git_repo(config, at_init=True)\n",
    "       # accelerator.init_trackers(\"train_example\", log_with=\"tensorboard\", logging_dir=os.path.join(config.output_dir, \"logs\"))\n",
    "        accelerator.init_trackers(\"train_example\")\n",
    "       # accelerator.init_trackers(\"train_example\")#, logging_dir=config.output_dir)\n",
    "\n",
    "    \n",
    "    # Prepare everything\n",
    "    # There is no specific order to remember, you just need to unpack the \n",
    "    # objects in the same order you gave them to the prepare method.\n",
    "\n",
    "    model, optimizer, train_dataloader, lr_scheduler = accelerator.prepare(\n",
    "        model, optimizer, train_dataloader, lr_scheduler\n",
    "    )\n",
    "    global_step = 0\n",
    "    starttime = datetime.now()\n",
    "    total_batches = len(train_dataloader) * config.num_epochs\n",
    "\n",
    "    # Now you train the model\n",
    "    for epoch in range(config.num_epochs):\n",
    "        progress_bar = tqdm(total=len(train_dataloader), disable=not accelerator.is_local_main_process)\n",
    "        progress_bar.set_description(f\"Epoch {epoch}\")\n",
    "\n",
    "        for step, batch in enumerate(train_dataloader):\n",
    "            clean_images = batch[0]\n",
    "            # Sample noise to add to the images\n",
    "            noise = torch.randn(clean_images.shape).to(clean_images.device)\n",
    "            bs = clean_images.shape[0]\n",
    "\n",
    "            # Sample a random timestep for each image\n",
    "            timesteps = torch.randint(0, noise_scheduler.num_train_timesteps, (bs,), device=clean_images.device).long()\n",
    "\n",
    "            # Add noise to the clean images according to the noise magnitude at each timestep\n",
    "            # (this is the forward diffusion process)\n",
    "            \n",
    "            noisy_images = noise_scheduler.add_noise(clean_images, noise, timesteps)\n",
    "            \n",
    "            with accelerator.accumulate(model):\n",
    "                # Predict the noise residual\n",
    "                noise_pred = model(noisy_images, timesteps, return_dict=False)[0]\n",
    "                loss = F.mse_loss(noise_pred, noise)\n",
    "                accelerator.backward(loss)\n",
    "\n",
    "                accelerator.clip_grad_norm_(model.parameters(), 1.0)\n",
    "                optimizer.step()\n",
    "                lr_scheduler.step()\n",
    "                optimizer.zero_grad()\n",
    "            \n",
    "            global_step += 1\n",
    "\n",
    "            progress_bar.update(1)\n",
    "            elapsed = datetime.now() - starttime\n",
    "            total = elapsed * total_batches / global_step\n",
    "\n",
    "            logs = {\"loss\": loss.detach().item(), \"lr\": lr_scheduler.get_last_lr()[0], \"step\": global_step}\n",
    "            progress_bar.set_postfix(**logs)\n",
    "            accelerator.log(logs, step=global_step)\n",
    "\n",
    "        # After each epoch you optionally sample some demo images with evaluate() and save the model\n",
    "        if accelerator.is_main_process:\n",
    "            pipeline = DDPMPipeline(unet=accelerator.unwrap_model(model), scheduler=noise_scheduler)\n",
    "\n",
    "            if (epoch + 1) % config.save_image_epochs == 0 or epoch == config.num_epochs - 1:\n",
    "                evaluate(config, epoch, pipeline)\n",
    "\n",
    "            if (epoch + 1) % config.save_model_epochs == 0 or epoch == config.num_epochs - 1:\n",
    "                #if config.push_to_hub:\n",
    "                    #push_to_hub(config, pipeline, repo, commit_message=f\"Epoch {epoch}\", blocking=True)\n",
    "               # else:\n",
    "                    pipeline.save_pretrained(config.output_dir) \n",
    "    torch.cuda.empty_cache()"
   ]
  },
  {
   "cell_type": "code",
   "execution_count": 13,
   "id": "564d8cf6-34b9-4983-8ef8-1b157f39aef3",
   "metadata": {},
   "outputs": [],
   "source": [
    "def make_grid(images, rows, cols):\n",
    "    w, h = images[0].size  # Get dimensions of the first image\n",
    "    grid = Image.new('RGB', size=(cols*w, rows*h))  # create new blank image\n",
    "    for i, image in enumerate(images):  # Paste images into the grid\n",
    "        grid.paste(image, box=(i%cols*w, i//cols*h))\n",
    "    return grid\n",
    "\n",
    "def evaluate(config, epoch, pipeline):\n",
    "    # config.eval_batch_size:This parameter specifies the number of images to generate in one batch.\n",
    "    # The default pipeline output type is `List[PIL.Image]`\n",
    "    #torch.manual_seed(config.seed):\n",
    "    #you ensure that the image generation process can produce consistent results each time the code is run with the same seed\n",
    "    #The .images attribute retrieves the generated images directly, typically as a tensor or a list of image objects.\n",
    "    images = pipeline(\n",
    "        batch_size=config.eval_batch_size,\n",
    "        generator=torch.manual_seed(config.seed),\n",
    "    ).images\n",
    "\n",
    "    # Make a grid out of the images\n",
    "    image_grid = make_grid(images, rows=4, cols=4)\n",
    "\n",
    "    # Save the images\n",
    "    test_dir = os.path.join(config.output_dir, \"samples\") # create folder samples\n",
    "    os.makedirs(test_dir, exist_ok=True)\n",
    "    image_grid.save(f\"{test_dir}/{epoch:04d}.png\")\n"
   ]
  },
  {
   "cell_type": "code",
   "execution_count": 14,
   "id": "8eb6a96f-ffe5-447c-b2c2-9752df3cae6e",
   "metadata": {},
   "outputs": [
    {
     "name": "stdout",
     "output_type": "stream",
     "text": [
      "Launching training on one GPU.\n"
     ]
    },
    {
     "name": "stderr",
     "output_type": "stream",
     "text": [
      "C:\\Users\\hvory\\AppData\\Roaming\\Python\\Python39\\site-packages\\accelerate\\accelerator.py:443: UserWarning: `log_with=tensorboard` was passed but no supported trackers are currently installed.\n",
      "  warnings.warn(f\"`log_with={log_with}` was passed but no supported trackers are currently installed.\")\n"
     ]
    },
    {
     "data": {
      "application/vnd.jupyter.widget-view+json": {
       "model_id": "c67e55bde1814fbdbef4b9c81e12eee5",
       "version_major": 2,
       "version_minor": 0
      },
      "text/plain": [
       "  0%|          | 0/1243 [00:00<?, ?it/s]"
      ]
     },
     "metadata": {},
     "output_type": "display_data"
    },
    {
     "name": "stderr",
     "output_type": "stream",
     "text": [
      "C:\\Users\\hvory\\AppData\\Roaming\\Python\\Python39\\site-packages\\diffusers\\configuration_utils.py:140: FutureWarning: Accessing config attribute `num_train_timesteps` directly via 'DDPMScheduler' object attribute is deprecated. Please access 'num_train_timesteps' over 'DDPMScheduler's config object instead, e.g. 'scheduler.config.num_train_timesteps'.\n",
      "  deprecate(\"direct config name access\", \"1.0.0\", deprecation_message, standard_warn=False)\n"
     ]
    },
    {
     "data": {
      "application/vnd.jupyter.widget-view+json": {
       "model_id": "c20bcd196a1647698505880222a83d3a",
       "version_major": 2,
       "version_minor": 0
      },
      "text/plain": [
       "  0%|          | 0/1243 [00:00<?, ?it/s]"
      ]
     },
     "metadata": {},
     "output_type": "display_data"
    },
    {
     "name": "stderr",
     "output_type": "stream",
     "text": [
      "\n",
      "KeyboardInterrupt\n",
      "\n"
     ]
    }
   ],
   "source": [
    "#%%capture\n",
    "from diffusers.optimization import get_cosine_schedule_with_warmup\n",
    "from diffusers import DDPMScheduler\n",
    "optimizer = torch.optim.AdamW(model.parameters(), lr=config.learning_rate)\n",
    "lr_scheduler = get_cosine_schedule_with_warmup(\n",
    "    optimizer=optimizer,\n",
    "    num_warmup_steps=config.lr_warmup_steps,\n",
    "    num_training_steps=(len(train_loader) * config.num_epochs),)\n",
    "\n",
    "noise_scheduler = DDPMScheduler(num_train_timesteps=1000)\n",
    "args = (config, model, noise_scheduler, optimizer, train_loader, lr_scheduler)\n",
    "\n",
    "notebook_launcher(train_loop, args, num_processes=1)\n",
    "#num_processes: This should be set to the number of processes (GPUs) you want to use.\n"
   ]
  },
  {
   "cell_type": "code",
   "execution_count": null,
   "id": "1dbbb877-692a-48c5-bf8b-ecbbbdf5510b",
   "metadata": {},
   "outputs": [],
   "source": [
    "trained_model = DiffusionPipeline.from_pretrained(\"output_dir\").unet.to(\"cuda\")\n",
    "def show(tensor):\n",
    "    return Image.fromarray((tensor.permute(0, 2, 3, 1) * 255.0).type(torch.uint8).numpy()[0])\n",
    "\n",
    "#show(sample_image)\n"
   ]
  },
  {
   "cell_type": "code",
   "execution_count": null,
   "id": "717635e0-8692-4bde-b41b-924ea4f2dadd",
   "metadata": {},
   "outputs": [],
   "source": [
    "device = torch.device(\"cuda\" if torch.cuda.is_available() else \"cpu\")\n",
    "# Add noise\n",
    "noise_level = 100 #50\n",
    "\n",
    "def noise(img, t):\n",
    "    noise = torch.randn(img.shape)#.to(device)\n",
    "    timesteps = torch.LongTensor([t])#.to(device)\n",
    "    noisy_image = noise_scheduler.add_noise(img, noise, timesteps)\n",
    "    return noisy_image\n",
    "\n",
    "noisy_image = noise(sample_image, noise_level)\n",
    "print(sample_image.size)\n",
    "print(noisy_image.shape)\n",
    "save_image(noisy_image, \"denoised_images/noisy_image.png\")\n",
    "#show(noisy_image)"
   ]
  },
  {
   "cell_type": "code",
   "execution_count": null,
   "id": "8557a5ee-c14a-4d4c-b8da-964ab77ed68a",
   "metadata": {},
   "outputs": [],
   "source": [
    "@torch.no_grad()\n",
    "def denoise(img, ts, progress=True):\n",
    "    noise_scheduler.set_timesteps(1000)\n",
    "    img_reconstruct = img[0].unsqueeze(0).to(\"cuda\")\n",
    "    #img_reconstruct = img.reshape(1, 3, config.image_size, config.image_size).to(\"cuda\")\n",
    "\n",
    "    for t in tqdm(noise_scheduler.timesteps[-ts:], disable=not progress):\n",
    "        # 1. predict noise model_output\n",
    "        model_output = trained_model(img_reconstruct, t).sample\n",
    "\n",
    "        # 2. compute previous img_reconstruct: x_t -> x_t-1\n",
    "        img_reconstruct = noise_scheduler.step(model_output, t, img_reconstruct).prev_sample\n",
    "        #print(reconstructed)\n",
    "    return img_reconstruct\n",
    "\n",
    "\n",
    "img_reconstruct = denoise(noisy_image, noise_level)"
   ]
  },
  {
   "cell_type": "code",
   "execution_count": null,
   "id": "6e43177b-0236-40c0-9bf3-0668929f1c03",
   "metadata": {},
   "outputs": [],
   "source": [
    "reconstructed = img_reconstruct.detach().cpu()\n",
    "print(type(reconstructed))\n",
    "#reconstructed.save(\"denoised_images\")\n",
    "save_image(reconstructed, \"denoised_images/saved_image.png\")\n",
    "#show(reconstructed)"
   ]
  },
  {
   "cell_type": "code",
   "execution_count": null,
   "id": "35ffed9d-ea66-4398-80e7-13895cf2a830",
   "metadata": {},
   "outputs": [],
   "source": [
    "fig, axs = plt.subplots(1, 3, figsize=(16, 4))\n",
    "\n",
    "images = dict(\n",
    "    sample_image=sample_image,\n",
    "    noisy_image=noisy_image,\n",
    "    reconstructed=reconstructed,\n",
    ")\n",
    "\n",
    "for i, (title, image) in enumerate(images.items()):\n",
    "    axs[i].imshow(show(image))\n",
    "    axs[i].set_axis_off()\n",
    "    axs[i].set_title(title)\n",
    "fig.suptitle(f\"Reconstruction at $t=${noise_level}\", fontsize=14);"
   ]
  },
  {
   "cell_type": "code",
   "execution_count": null,
   "id": "cb950a10-2399-45d5-a4ca-7240d9bae9d1",
   "metadata": {},
   "outputs": [],
   "source": [
    "def noise(img, t):\n",
    "    noise = torch.randn(img.shape)#.to(device)\n",
    "    timesteps = torch.LongTensor([t])#.to(device)\n",
    "    noisy_image = noise_scheduler.add_noise(img, noise, timesteps)\n",
    "    return noisy_image"
   ]
  },
  {
   "cell_type": "code",
   "execution_count": null,
   "id": "c6289078-d7f3-4b4d-927b-601fb7c6c399",
   "metadata": {},
   "outputs": [],
   "source": [
    "@torch.no_grad()\n",
    "def denoise(img, ts, progress=True):\n",
    "    noise_scheduler.set_timesteps(1_000)\n",
    "    img_reconstruct = img[0].unsqueeze(0).to(\"cuda\")\n",
    "    #img_reconstruct = img.reshape(1, 3, config.image_size, config.image_size).to(\"cuda\")\n",
    "\n",
    "    for t in tqdm(noise_scheduler.timesteps[-ts:], disable=not progress):\n",
    "        # 1. predict noise model_output\n",
    "        model_output = trained_model(img_reconstruct, t).sample\n",
    "\n",
    "        # 2. compute previous img_reconstruct: x_t -> x_t-1\n",
    "        img_reconstruct = noise_scheduler.step(model_output, t, img_reconstruct).prev_sample\n",
    "\n",
    "    return img_reconstruct\n"
   ]
  },
  {
   "cell_type": "code",
   "execution_count": null,
   "id": "42984a6f-691f-4f92-994a-325ec7a175db",
   "metadata": {},
   "outputs": [],
   "source": [
    "noise_level = 100 #50\n",
    "from PIL import Image\n",
    "import shutil\n",
    "lst_dir=[]\n",
    "#test_loader = data.DataLoader(image_datasets['train'], batch_size=config.test_batch_size, shuffle=True, num_workers=config.workers)\n",
    "for idx, (originImg, label) in enumerate(image_datasets['train']):\n",
    "        file_path = image_datasets['train'].samples[idx][0]\n",
    "        file_name = os.path.splitext(os.path.basename(file_path))[0]    #[0]\n",
    "        originImg=originImg.unsqueeze(0)\n",
    "        os.makedirs(\"clean_dataset\", exist_ok=True)\n",
    "        noisy_image = noise(originImg, noise_level)\n",
    "        img_reconstruct = denoise(noisy_image, noise_level)\n",
    "        reconstructed = img_reconstruct.detach().cpu()\n",
    "        folder_path = os.path.join('/scratch/project_2012241/mnist' , 'train') \n",
    "        newfile= file_name\n",
    "        lst_dir.append(newfile)\n",
    "        os.makedirs(folder_path + \"\\\\\" + newfile, exist_ok=True)\n",
    "        newfolder=os.path.join(folder_path,newfile)\n",
    "        Image.fromarray((noisy_image.permute(0, 2, 3, 1) * 255).type(torch.uint8).numpy()[0])\n",
    "        image_path = os.path.join(newfolder, file_name + \".png\")\n",
    "        save_image(reconstructed, image_path)\n",
    "        os.makedirs(folder_path + \"\\\\\" + newfile, exist_ok=True)\n",
    "        newfolder=os.path.join(folder_path,newfile)\n",
    "        image_path = os.path.join(newfolder, file_name + \".png\")\n",
    "        save_image(reconstructed, image_path)\n"
   ]
  }
 ],
 "metadata": {
  "kernelspec": {
   "display_name": "Python 3 (ipykernel)",
   "language": "python",
   "name": "python3"
  },
  "language_info": {
   "codemirror_mode": {
    "name": "ipython",
    "version": 3
   },
   "file_extension": ".py",
   "mimetype": "text/x-python",
   "name": "python",
   "nbconvert_exporter": "python",
   "pygments_lexer": "ipython3",
   "version": "3.9.20"
  }
 },
 "nbformat": 4,
 "nbformat_minor": 5
}
