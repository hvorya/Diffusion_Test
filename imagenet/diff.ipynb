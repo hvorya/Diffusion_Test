{
 "cells": [
  {
   "cell_type": "code",
   "execution_count": 3,
   "id": "176aabdb-e81b-4f3d-afcd-f34a0b952eba",
   "metadata": {},
   "outputs": [
    {
     "name": "stdout",
     "output_type": "stream",
     "text": [
      "C:\\Users\\hvory\\AppData\\Roaming\\Python\\Python312\\site-packages\n",
      "Python 3.12.4\n",
      "Requirement already satisfied: diffusers in c:\\users\\hvory\\appdata\\roaming\\python\\python312\\site-packages (0.31.0)\n",
      "Requirement already satisfied: importlib-metadata in d:\\anaconda\\lib\\site-packages (from diffusers) (7.0.1)\n",
      "Requirement already satisfied: filelock in d:\\anaconda\\lib\\site-packages (from diffusers) (3.13.1)\n",
      "Requirement already satisfied: huggingface-hub>=0.23.2 in d:\\anaconda\\lib\\site-packages (from diffusers) (0.26.2)\n",
      "Requirement already satisfied: numpy in d:\\anaconda\\lib\\site-packages (from diffusers) (1.26.4)\n",
      "Requirement already satisfied: regex!=2019.12.17 in d:\\anaconda\\lib\\site-packages (from diffusers) (2023.10.3)\n",
      "Requirement already satisfied: requests in d:\\anaconda\\lib\\site-packages (from diffusers) (2.32.2)\n",
      "Requirement already satisfied: safetensors>=0.3.1 in d:\\anaconda\\lib\\site-packages (from diffusers) (0.4.5)\n",
      "Requirement already satisfied: Pillow in c:\\users\\hvory\\appdata\\roaming\\python\\python312\\site-packages (from diffusers) (11.0.0)\n",
      "Requirement already satisfied: fsspec>=2023.5.0 in d:\\anaconda\\lib\\site-packages (from huggingface-hub>=0.23.2->diffusers) (2024.3.1)\n",
      "Requirement already satisfied: packaging>=20.9 in d:\\anaconda\\lib\\site-packages (from huggingface-hub>=0.23.2->diffusers) (23.2)\n",
      "Requirement already satisfied: pyyaml>=5.1 in d:\\anaconda\\lib\\site-packages (from huggingface-hub>=0.23.2->diffusers) (6.0.1)\n",
      "Requirement already satisfied: tqdm>=4.42.1 in d:\\anaconda\\lib\\site-packages (from huggingface-hub>=0.23.2->diffusers) (4.66.4)\n",
      "Requirement already satisfied: typing-extensions>=3.7.4.3 in d:\\anaconda\\lib\\site-packages (from huggingface-hub>=0.23.2->diffusers) (4.11.0)\n",
      "Requirement already satisfied: zipp>=0.5 in d:\\anaconda\\lib\\site-packages (from importlib-metadata->diffusers) (3.17.0)\n",
      "Requirement already satisfied: charset-normalizer<4,>=2 in d:\\anaconda\\lib\\site-packages (from requests->diffusers) (2.0.4)\n",
      "Requirement already satisfied: idna<4,>=2.5 in d:\\anaconda\\lib\\site-packages (from requests->diffusers) (3.7)\n",
      "Requirement already satisfied: urllib3<3,>=1.21.1 in d:\\anaconda\\lib\\site-packages (from requests->diffusers) (2.2.2)\n",
      "Requirement already satisfied: certifi>=2017.4.17 in d:\\anaconda\\lib\\site-packages (from requests->diffusers) (2024.8.30)\n",
      "Requirement already satisfied: colorama in d:\\anaconda\\lib\\site-packages (from tqdm>=4.42.1->huggingface-hub>=0.23.2->diffusers) (0.4.6)\n"
     ]
    },
    {
     "name": "stderr",
     "output_type": "stream",
     "text": [
      "\n",
      "[notice] A new release of pip is available: 24.2 -> 24.3.1\n",
      "[notice] To update, run: python.exe -m pip install --upgrade pip\n"
     ]
    },
    {
     "name": "stdout",
     "output_type": "stream",
     "text": [
      "Name: diffusers\n",
      "Version: 0.31.0\n",
      "Summary: State-of-the-art diffusion in PyTorch and JAX.\n",
      "Home-page: https://github.com/huggingface/diffusers\n",
      "Author: The Hugging Face team (past and future) with the help of all our contributors (https://github.com/huggingface/diffusers/graphs/contributors)\n",
      "Author-email: diffusers@huggingface.co\n",
      "License: Apache 2.0 License\n",
      "Location: C:\\Users\\hvory\\AppData\\Roaming\\Python\\Python312\\site-packages\n",
      "Requires: filelock, huggingface-hub, importlib-metadata, numpy, Pillow, regex, requests, safetensors\n",
      "Required-by: \n",
      "Requirement already satisfied: diffusers in c:\\users\\hvory\\appdata\\roaming\\python\\python312\\site-packages (0.31.0)\n",
      "Requirement already satisfied: importlib-metadata in d:\\anaconda\\lib\\site-packages (from diffusers) (7.0.1)\n",
      "Requirement already satisfied: filelock in d:\\anaconda\\lib\\site-packages (from diffusers) (3.13.1)\n",
      "Requirement already satisfied: huggingface-hub>=0.23.2 in d:\\anaconda\\lib\\site-packages (from diffusers) (0.26.2)\n",
      "Requirement already satisfied: numpy in d:\\anaconda\\lib\\site-packages (from diffusers) (1.26.4)\n",
      "Requirement already satisfied: regex!=2019.12.17 in d:\\anaconda\\lib\\site-packages (from diffusers) (2023.10.3)\n",
      "Requirement already satisfied: requests in d:\\anaconda\\lib\\site-packages (from diffusers) (2.32.2)\n",
      "Requirement already satisfied: safetensors>=0.3.1 in d:\\anaconda\\lib\\site-packages (from diffusers) (0.4.5)\n",
      "Requirement already satisfied: Pillow in c:\\users\\hvory\\appdata\\roaming\\python\\python312\\site-packages (from diffusers) (11.0.0)\n",
      "Requirement already satisfied: fsspec>=2023.5.0 in d:\\anaconda\\lib\\site-packages (from huggingface-hub>=0.23.2->diffusers) (2024.3.1)\n",
      "Requirement already satisfied: packaging>=20.9 in d:\\anaconda\\lib\\site-packages (from huggingface-hub>=0.23.2->diffusers) (23.2)\n",
      "Requirement already satisfied: pyyaml>=5.1 in d:\\anaconda\\lib\\site-packages (from huggingface-hub>=0.23.2->diffusers) (6.0.1)\n",
      "Requirement already satisfied: tqdm>=4.42.1 in d:\\anaconda\\lib\\site-packages (from huggingface-hub>=0.23.2->diffusers) (4.66.4)\n",
      "Requirement already satisfied: typing-extensions>=3.7.4.3 in d:\\anaconda\\lib\\site-packages (from huggingface-hub>=0.23.2->diffusers) (4.11.0)\n",
      "Requirement already satisfied: zipp>=0.5 in d:\\anaconda\\lib\\site-packages (from importlib-metadata->diffusers) (3.17.0)\n",
      "Requirement already satisfied: charset-normalizer<4,>=2 in d:\\anaconda\\lib\\site-packages (from requests->diffusers) (2.0.4)\n",
      "Requirement already satisfied: idna<4,>=2.5 in d:\\anaconda\\lib\\site-packages (from requests->diffusers) (3.7)\n",
      "Requirement already satisfied: urllib3<3,>=1.21.1 in d:\\anaconda\\lib\\site-packages (from requests->diffusers) (2.2.2)\n",
      "Requirement already satisfied: certifi>=2017.4.17 in d:\\anaconda\\lib\\site-packages (from requests->diffusers) (2024.8.30)\n",
      "Requirement already satisfied: colorama in d:\\anaconda\\lib\\site-packages (from tqdm>=4.42.1->huggingface-hub>=0.23.2->diffusers) (0.4.6)\n"
     ]
    },
    {
     "name": "stderr",
     "output_type": "stream",
     "text": [
      "\n",
      "[notice] A new release of pip is available: 24.2 -> 24.3.1\n",
      "[notice] To update, run: python.exe -m pip install --upgrade pip\n"
     ]
    }
   ],
   "source": [
    "#!export PATH=$PATH:/users/shoseini/.local/bin\n",
    "#!echo $PATH\n",
    "!python -m site --user-site\n",
    "#!pip install --user diffusers\n",
    "#!python3.9 -m venv paper2 # python3.8 -m venv env\n",
    "#!python -m ipykernel install --user --name=paper2 --display-name \"Python (paper2)\"\n",
    "#!which virtualenv\n",
    "#!virtualenv /scratch/project_2012241/mnist/paper2\n",
    "#!pip list\n",
    "#!pip install diffusers\n",
    "!python --version\n",
    "#!pip list\n",
    "!pip install diffusers --user\n",
    "!pip show diffusers\n",
    "#!export PATH=$PATH:~/.local/bin\n",
    "#!source ~/.bashrc\n",
    "!pip install  diffusers --prefix=./mnist/paper2/lib64/python3.9/site-packages/"
   ]
  },
  {
   "cell_type": "code",
   "execution_count": 1,
   "id": "31488170-36ac-4ad3-af5b-693fa97052d9",
   "metadata": {},
   "outputs": [
    {
     "name": "stdout",
     "output_type": "stream",
     "text": [
      "Requirement already satisfied: diffusers in c:\\users\\hvory\\appdata\\roaming\\python\\python312\\site-packages (0.31.0)\n",
      "Requirement already satisfied: importlib-metadata in d:\\anaconda\\lib\\site-packages (from diffusers) (7.0.1)\n",
      "Requirement already satisfied: filelock in d:\\anaconda\\lib\\site-packages (from diffusers) (3.13.1)\n",
      "Requirement already satisfied: huggingface-hub>=0.23.2 in d:\\anaconda\\lib\\site-packages (from diffusers) (0.26.2)\n",
      "Requirement already satisfied: numpy in d:\\anaconda\\lib\\site-packages (from diffusers) (1.26.4)\n",
      "Requirement already satisfied: regex!=2019.12.17 in d:\\anaconda\\lib\\site-packages (from diffusers) (2023.10.3)\n",
      "Requirement already satisfied: requests in d:\\anaconda\\lib\\site-packages (from diffusers) (2.32.2)\n",
      "Requirement already satisfied: safetensors>=0.3.1 in d:\\anaconda\\lib\\site-packages (from diffusers) (0.4.5)\n",
      "Requirement already satisfied: Pillow in c:\\users\\hvory\\appdata\\roaming\\python\\python312\\site-packages (from diffusers) (11.0.0)\n",
      "Requirement already satisfied: fsspec>=2023.5.0 in d:\\anaconda\\lib\\site-packages (from huggingface-hub>=0.23.2->diffusers) (2024.3.1)\n",
      "Requirement already satisfied: packaging>=20.9 in d:\\anaconda\\lib\\site-packages (from huggingface-hub>=0.23.2->diffusers) (23.2)\n",
      "Requirement already satisfied: pyyaml>=5.1 in d:\\anaconda\\lib\\site-packages (from huggingface-hub>=0.23.2->diffusers) (6.0.1)\n",
      "Requirement already satisfied: tqdm>=4.42.1 in d:\\anaconda\\lib\\site-packages (from huggingface-hub>=0.23.2->diffusers) (4.66.4)\n",
      "Requirement already satisfied: typing-extensions>=3.7.4.3 in d:\\anaconda\\lib\\site-packages (from huggingface-hub>=0.23.2->diffusers) (4.11.0)\n",
      "Requirement already satisfied: zipp>=0.5 in d:\\anaconda\\lib\\site-packages (from importlib-metadata->diffusers) (3.17.0)\n",
      "Requirement already satisfied: charset-normalizer<4,>=2 in d:\\anaconda\\lib\\site-packages (from requests->diffusers) (2.0.4)\n",
      "Requirement already satisfied: idna<4,>=2.5 in d:\\anaconda\\lib\\site-packages (from requests->diffusers) (3.7)\n",
      "Requirement already satisfied: urllib3<3,>=1.21.1 in d:\\anaconda\\lib\\site-packages (from requests->diffusers) (2.2.2)\n",
      "Requirement already satisfied: certifi>=2017.4.17 in d:\\anaconda\\lib\\site-packages (from requests->diffusers) (2024.8.30)\n",
      "Requirement already satisfied: colorama in d:\\anaconda\\lib\\site-packages (from tqdm>=4.42.1->huggingface-hub>=0.23.2->diffusers) (0.4.6)\n"
     ]
    },
    {
     "name": "stderr",
     "output_type": "stream",
     "text": [
      "\n",
      "[notice] A new release of pip is available: 24.2 -> 24.3.1\n",
      "[notice] To update, run: python.exe -m pip install --upgrade pip\n"
     ]
    }
   ],
   "source": [
    "#!pip install diffusers\n",
    "#!pip cache purge\n",
    "#!pip install --upgrade diffusers transformers\n",
    "#!pip install --upgrade diffusers transformers\n",
    "#!pip install --user transformers\n",
    "!pip  install diffusers --user\n",
    "#!pip install accelerate\n",
    "from diffusers.models.autoencoders import AutoencoderKL\n",
    "from transformers import AutoImageProcessor"
   ]
  },
  {
   "cell_type": "code",
   "execution_count": 2,
   "id": "8610f267-eba9-4a23-8a71-13229165d7f8",
   "metadata": {},
   "outputs": [],
   "source": [
    "from dataclasses import dataclass\n",
    "import torchvision\n",
    "import torch\n",
    "import os\n",
    "import shutil\n",
    "import torchvision.datasets as datasets\n",
    "import torch.utils.data as data\n",
    "import torchvision.transforms as transforms\n",
    "from torch.utils.data import ConcatDataset, DataLoader, WeightedRandomSampler\n",
    "import matplotlib.pyplot as plt\n",
    "from PIL import Image\n",
    "from diffusers import UNet2DModel\n",
    "from diffusers import DDPMScheduler\n",
    "from diffusers.optimization import get_cosine_schedule_with_warmup\n",
    "from accelerate import Accelerator\n",
    "#from diffusers.utils.hub_utils import init_git_repo, push_to_hub\n",
    "from datetime import datetime\n",
    "import torch.nn.functional as F\n",
    "from tqdm.auto import tqdm\n",
    "from diffusers import DDPMPipeline\n",
    "\n",
    "import math\n",
    "from accelerate import notebook_launcher\n",
    "from diffusers import DDPMPipeline\n",
    "import glob\n",
    "from torchvision.utils import save_image\n",
    "from torchvision import datasets\n",
    "from diffusers import DiffusionPipeline"
   ]
  },
  {
   "cell_type": "code",
   "execution_count": 163,
   "id": "faa606a6-b9b4-4720-bd9e-15e70d394f12",
   "metadata": {},
   "outputs": [],
   "source": [
    "@dataclass\n",
    "class TrainingConfig:\n",
    "    image_size = 28  # the generated image resolution\n",
    "    train_batch_size = 16 #48\n",
    "    eval_batch_size = 16 #48  # how many images to sample during evaluation\n",
    "    test_batch_size=1\n",
    "    num_epochs = 35\n",
    "    gradient_accumulation_steps = 1\n",
    "    learning_rate = 1e-4\n",
    "    lr_warmup_steps = 500\n",
    "    save_image_epochs = 5\n",
    "    save_model_epochs = 5\n",
    "    mixed_precision = 'fp16'  # `no` for float32, `fp16` for automatic mixed precision\n",
    "    output_dir ='C:\\\\Users\\\\hvory\\\\ISSBA-main\\\\MNist\\\\mnist'  # the model namy locally and on the HF Hub\n",
    "    log_dir=\"log\"\n",
    "    workers = 4\n",
    "\n",
    "    push_to_hub = True  # whether to upload the saved model to the HF Hub\n",
    "    hub_private_repo = False\n",
    "    overwrite_output_dir = True  # overwrite the old model when re-running the notebook\n",
    "    seed = 0\n",
    "\n",
    "config = TrainingConfig()"
   ]
  },
  {
   "cell_type": "code",
   "execution_count": 165,
   "id": "6fc54c33-2441-4b9c-b87b-427f7f54fea6",
   "metadata": {},
   "outputs": [
    {
     "name": "stdout",
     "output_type": "stream",
     "text": [
      "1243\n",
      "19888\n"
     ]
    }
   ],
   "source": [
    "data_transforms = {\n",
    "        'train': transforms.Compose([\n",
    "            #transforms.RandomRotation(20),\n",
    "           # transforms.RandomHorizontalFlip(0.5),\n",
    "            transforms.Resize((64, 64)),\n",
    "            transforms.ToTensor(),\n",
    "            #transforms.Normalize([0.4802, 0.4481, 0.3975], [0.2302, 0.2265, 0.2262]),\n",
    "        ]),\n",
    "        'val': transforms.Compose([\n",
    "            transforms.ToTensor(),\n",
    "            transforms.Resize((64, 64)),\n",
    "            #transforms.Normalize([0.4802, 0.4481, 0.3975], [0.2302, 0.2265, 0.2262]),\n",
    "        ])\n",
    "    }\n",
    "data_dir=\"C:\\\\Users\\\\hvory\\\\ISSBA-main\\\\MNist\\\\mnist\"\n",
    "#bd_data_dir= \"/scratch/project_2012241/bd_dataset/\"\n",
    "image_datasets = {'train': datasets.ImageFolder(os.path.join(data_dir, 'train'), data_transforms['train'])}\n",
    "#poison_datasets= {x: datasets.ImageFolder(os.path.join(bd_data_dir, x), data_transforms[x])\n",
    "                   # for x in ['train', 'val']}\n",
    "#print(image_datasets)\n",
    "#weights = [0.7]* len(image_datasets['train']) + [0.3] * len(poison_datasets['train'])\n",
    "#print(weights)\n",
    "#print([0.7] * len(image_datasets['train']))\n",
    "# Create a WeightedRandomSampler to control the proportions\n",
    "#sampler = WeightedRandomSampler(weights, len(weights))\n",
    "#sampler = WeightedRandomSampler(weights, num_samples=70000, replacement=True)\n",
    "#combined_dataset = ConcatDataset([image_datasets, poison_datasets])\n",
    "#combined_dataset = ConcatDataset([image_datasets['train'], poison_datasets['train']])\n",
    "#print(len(combined_dataset))\n",
    "train_loader = data.DataLoader(image_datasets['train'], batch_size=config.train_batch_size, shuffle=False, num_workers=config.workers)\n",
    "print(len(train_loader))\n",
    "print(len(image_datasets['train']))"
   ]
  },
  {
   "cell_type": "code",
   "execution_count": 167,
   "id": "d914a91d-9047-436b-93ce-26643acc611b",
   "metadata": {},
   "outputs": [],
   "source": [
    "model = UNet2DModel(\n",
    "    sample_size=config.image_size,  # the target image resolution\n",
    "    in_channels=3,  # the number of input channels, 3 for RGB images\n",
    "    out_channels=3,  # the number of output channels\n",
    "    layers_per_block=2,  # how many ResNet layers to use per UNet block\n",
    "    block_out_channels=(128, 128, 256, 256, 512, 512),  # the number of output channes for each UNet block\n",
    "    down_block_types=( \n",
    "        \"DownBlock2D\",  # a regular ResNet downsampling block\n",
    "        \"DownBlock2D\", \n",
    "        \"DownBlock2D\", \n",
    "        \"DownBlock2D\", \n",
    "        \"AttnDownBlock2D\",  # a ResNet downsampling block with spatial self-attention\n",
    "        \"DownBlock2D\",\n",
    "    ), \n",
    "    up_block_types=(\n",
    "        \"UpBlock2D\",  # a regular ResNet upsampling block\n",
    "        \"AttnUpBlock2D\",  # a ResNet upsampling block with spatial self-attention\n",
    "        \"UpBlock2D\", \n",
    "        \"UpBlock2D\", \n",
    "        \"UpBlock2D\", \n",
    "        \"UpBlock2D\"  \n",
    "      ),\n",
    ")\n"
   ]
  },
  {
   "cell_type": "code",
   "execution_count": 169,
   "id": "f313f329-b32c-4f89-87f1-2d4f4ecadf36",
   "metadata": {},
   "outputs": [
    {
     "name": "stderr",
     "output_type": "stream",
     "text": [
      "C:\\Users\\hvory\\AppData\\Local\\Temp\\ipykernel_17760\\2232307372.py:12: UserWarning: FigureCanvasAgg is non-interactive, and thus cannot be shown\n",
      "  fig.show()\n"
     ]
    },
    {
     "data": {
      "image/png": "[encoded data removed]",
      "text/plain": [
       "<Figure size 1600x400 with 5 Axes>"
      ]
     },
     "metadata": {},
     "output_type": "display_data"
    }
   ],
   "source": [
    "import matplotlib.pyplot as plt\n",
    "\n",
    "fig, axs = plt.subplots(1, 5, figsize=(16, 4))\n",
    "for i, (image, label) in enumerate(image_datasets['train']):\n",
    "\n",
    "    axs[i].imshow(image.permute(1, 2, 0).numpy())\n",
    "    axs[i].set_axis_off()\n",
    "    axs[i].set_title(f\"Label: {label}\")\n",
    "\n",
    "\n",
    "    if i >= 4: break\n",
    "fig.show()"
   ]
  },
  {
   "cell_type": "code",
   "execution_count": 171,
   "id": "64f24998-a463-4b56-b6c4-890d6fb6f5b8",
   "metadata": {},
   "outputs": [],
   "source": [
    "noise_scheduler = DDPMScheduler(num_train_timesteps=1000)\n",
    "optimizer = torch.optim.AdamW(model.parameters(), lr=config.learning_rate)\n",
    "\n",
    "lr_scheduler = get_cosine_schedule_with_warmup(\n",
    "    optimizer=optimizer,\n",
    "    num_warmup_steps=config.lr_warmup_steps,\n",
    "    num_training_steps=(len(train_loader) * config.num_epochs),\n",
    ")\n",
    "def train_loop(config, model, noise_scheduler, optimizer, train_dataloader, lr_scheduler):\n",
    "    # Initialize accelerator and tensorboard logging, A list of loggers to be\n",
    "    #setup for experiment tracking. Should be one or several of:\"all\",\"tensorboard\",\"wandb\"\n",
    "    accelerator = Accelerator(\n",
    "        mixed_precision=config.mixed_precision,\n",
    "        gradient_accumulation_steps=config.gradient_accumulation_steps,\n",
    "        log_with=\"tensorboard\",\n",
    "        project_dir=os.path.join(config.log_dir, \"logs\")\n",
    "    )\n",
    "    if accelerator.is_main_process:\n",
    "        #if config.push_to_hub:\n",
    "            #repo = init_git_repo(config, at_init=True)\n",
    "       # accelerator.init_trackers(\"train_example\", log_with=\"tensorboard\", logging_dir=os.path.join(config.output_dir, \"logs\"))\n",
    "        accelerator.init_trackers(\"train_example\")\n",
    "       # accelerator.init_trackers(\"train_example\")#, logging_dir=config.output_dir)\n",
    "       \n",
    "    model, optimizer, train_dataloader, lr_scheduler = accelerator.prepare(model, optimizer, train_dataloader, lr_scheduler)\n",
    "    global_step = 0\n",
    "    starttime = datetime.now()\n",
    "    total_batches = len(train_dataloader) * config.num_epochs\n",
    "\n",
    "\n",
    "\n",
    "    # Now you train the model\n",
    "    for epoch in range(config.num_epochs):\n",
    "        progress_bar = tqdm(total=len(train_dataloader), disable=not accelerator.is_local_main_process)\n",
    "        progress_bar.set_description(f\"Epoch {epoch}\")\n",
    "        \n",
    "        for step, batch in enumerate(train_dataloader):\n",
    "            clean_images = batch[0]\n",
    "            # Sample noise to add to the images\n",
    "            noise = torch.randn(clean_images.shape).to(clean_images.device)\n",
    "            bs = clean_images.shape[0]\n",
    "            \n",
    "            # Sample a random timestep for each image\n",
    "            timesteps = torch.randint(0, noise_scheduler.num_train_timesteps, (bs,), device=clean_images.device).long()\n",
    "            \n",
    "            # Add noise to the clean images according to the noise magnitude at each timestep\n",
    "            # (this is the forward diffusion process)\n",
    "\n",
    "            noisy_images = noise_scheduler.add_noise(clean_images, noise, timesteps)\n",
    "           \n",
    "            with accelerator.accumulate(model):\n",
    "                # Predict the noise residual\n",
    "                #print(noisy_images.shape)\n",
    "                noise_pred = model(noisy_images, timesteps, return_dict=False)[0]\n",
    "                \n",
    "                loss = F.mse_loss(noise_pred, noise)\n",
    "                accelerator.backward(loss)\n",
    "\n",
    "                accelerator.clip_grad_norm_(model.parameters(), 1.0)\n",
    "                optimizer.step()\n",
    "                lr_scheduler.step()\n",
    "                optimizer.zero_grad()\n",
    "            global_step += 1\n",
    "\n",
    "            progress_bar.update(1)\n",
    "            elapsed = datetime.now() - starttime\n",
    "            total = elapsed * total_batches / global_step\n",
    "\n",
    "            logs = {\"loss\": loss.detach().item(), \"lr\": lr_scheduler.get_last_lr()[0], \"step\": global_step}\n",
    "            progress_bar.set_postfix(**logs)\n",
    "            accelerator.log(logs, step=global_step)\n",
    "            \n",
    "        # After each epoch you optionally sample some demo images with evaluate() and save the model\n",
    "        if accelerator.is_main_process:\n",
    "            pipeline = DDPMPipeline(unet=accelerator.unwrap_model(model), scheduler=noise_scheduler)\n",
    "\n",
    "            if (epoch + 1) % config.save_image_epochs == 0 or epoch == config.num_epochs - 1:\n",
    "                torch.autograd.set_detect_anomaly(True)\n",
    "                evaluate(config, epoch, pipeline)\n",
    "\n",
    "            if (epoch + 1) % config.save_model_epochs == 0 or epoch == config.num_epochs - 1:\n",
    "                #if config.push_to_hub:\n",
    "                    #push_to_hub(config, pipeline, repo, commit_message=f\"Epoch {epoch}\", blocking=True)\n",
    "               # else:\n",
    "                    pipeline.save_pretrained(config.output_dir) \n",
    "    torch.cuda.empty_cache()\n"
   ]
  },
  {
   "cell_type": "code",
   "execution_count": 173,
   "id": "564d8cf6-34b9-4983-8ef8-1b157f39aef3",
   "metadata": {},
   "outputs": [],
   "source": [
    "def make_grid(images, rows, cols):\n",
    "    w, h = images[0].size  # Get dimensions of the first image\n",
    "    grid = Image.new('RGB', size=(cols*w, rows*h))  # create new blank image\n",
    "    for i, image in enumerate(images):  # Paste images into the grid\n",
    "        grid.paste(image, box=(i%cols*w, i//cols*h))\n",
    "    return grid\n",
    "\n",
    "def evaluate(config, epoch, pipeline):\n",
    "    # config.eval_batch_size:This parameter specifies the number of images to generate in one batch.\n",
    "    # The default pipeline output type is `List[PIL.Image]`\n",
    "    #torch.manual_seed(config.seed):\n",
    "    #you ensure that the image generation process can produce consistent results each time the code is run with the same seed\n",
    "    #The .images attribute retrieves the generated images directly, typically as a tensor or a list of image objects.\n",
    "    torch.autograd.set_detect_anomaly(True)\n",
    "    images = pipeline(\n",
    "        batch_size=config.eval_batch_size,\n",
    "        generator=torch.manual_seed(config.seed),\n",
    "    ).images\n",
    "\n",
    "    # Make a grid out of the images\n",
    "    image_grid = make_grid(images, rows=4, cols=4)\n",
    "\n",
    "    # Save the images\n",
    "    test_dir = os.path.join(config.output_dir, \"samples\") # create folder samples\n",
    "    os.makedirs(test_dir, exist_ok=True)\n",
    "    image_grid.save(f\"{test_dir}/{epoch:04d}.png\")\n"
   ]
  },
  {
   "cell_type": "code",
   "execution_count": 177,
   "id": "8eb6a96f-ffe5-447c-b2c2-9752df3cae6e",
   "metadata": {},
   "outputs": [
    {
     "name": "stdout",
     "output_type": "stream",
     "text": [
      "Launching training on one GPU.\n"
     ]
    },
    {
     "data": {
      "application/vnd.jupyter.widget-view+json": {
       "model_id": "ce67af044b574ae790af4a9cdaf8b948",
       "version_major": 2,
       "version_minor": 0
      },
      "text/plain": [
       "  0%|          | 0/1243 [00:00<?, ?it/s]"
      ]
     },
     "metadata": {},
     "output_type": "display_data"
    },
    {
     "ename": "RuntimeError",
     "evalue": "Function 'MseLossBackward0' returned nan values in its 0th output.",
     "output_type": "error",
     "traceback": [
      "\u001b[1;31m---------------------------------------------------------------------------\u001b[0m",
      "\u001b[1;31mRuntimeError\u001b[0m                              Traceback (most recent call last)",
      "Cell \u001b[1;32mIn[177], line 3\u001b[0m\n\u001b[0;32m      1\u001b[0m args \u001b[38;5;241m=\u001b[39m (config, model, noise_scheduler, optimizer, train_loader, lr_scheduler)\n\u001b[1;32m----> 3\u001b[0m \u001b[43mnotebook_launcher\u001b[49m\u001b[43m(\u001b[49m\u001b[43mtrain_loop\u001b[49m\u001b[43m,\u001b[49m\u001b[43m \u001b[49m\u001b[43margs\u001b[49m\u001b[43m,\u001b[49m\u001b[43m \u001b[49m\u001b[43mnum_processes\u001b[49m\u001b[38;5;241;43m=\u001b[39;49m\u001b[38;5;241;43m1\u001b[39;49m\u001b[43m)\u001b[49m\n",
      "File \u001b[1;32m~\\AppData\\Roaming\\Python\\Python39\\site-packages\\accelerate\\launchers.py:266\u001b[0m, in \u001b[0;36mnotebook_launcher\u001b[1;34m(function, args, num_processes, mixed_precision, use_port, master_addr, node_rank, num_nodes, rdzv_backend, rdzv_endpoint, rdzv_conf, rdzv_id, max_restarts, monitor_interval, log_line_prefix_template)\u001b[0m\n\u001b[0;32m    264\u001b[0m \u001b[38;5;28;01melse\u001b[39;00m:\n\u001b[0;32m    265\u001b[0m     \u001b[38;5;28mprint\u001b[39m(\u001b[38;5;124m\"\u001b[39m\u001b[38;5;124mLaunching training on CPU.\u001b[39m\u001b[38;5;124m\"\u001b[39m)\n\u001b[1;32m--> 266\u001b[0m \u001b[43mfunction\u001b[49m\u001b[43m(\u001b[49m\u001b[38;5;241;43m*\u001b[39;49m\u001b[43margs\u001b[49m\u001b[43m)\u001b[49m\n",
      "Cell \u001b[1;32mIn[171], line 57\u001b[0m, in \u001b[0;36mtrain_loop\u001b[1;34m(config, model, noise_scheduler, optimizer, train_dataloader, lr_scheduler)\u001b[0m\n\u001b[0;32m     54\u001b[0m noise_pred \u001b[38;5;241m=\u001b[39m model(noisy_images, timesteps, return_dict\u001b[38;5;241m=\u001b[39m\u001b[38;5;28;01mFalse\u001b[39;00m)[\u001b[38;5;241m0\u001b[39m]\n\u001b[0;32m     56\u001b[0m loss \u001b[38;5;241m=\u001b[39m F\u001b[38;5;241m.\u001b[39mmse_loss(noise_pred, noise)\n\u001b[1;32m---> 57\u001b[0m \u001b[43maccelerator\u001b[49m\u001b[38;5;241;43m.\u001b[39;49m\u001b[43mbackward\u001b[49m\u001b[43m(\u001b[49m\u001b[43mloss\u001b[49m\u001b[43m)\u001b[49m\n\u001b[0;32m     59\u001b[0m accelerator\u001b[38;5;241m.\u001b[39mclip_grad_norm_(model\u001b[38;5;241m.\u001b[39mparameters(), \u001b[38;5;241m1.0\u001b[39m)\n\u001b[0;32m     60\u001b[0m optimizer\u001b[38;5;241m.\u001b[39mstep()\n",
      "File \u001b[1;32m~\\AppData\\Roaming\\Python\\Python39\\site-packages\\accelerate\\accelerator.py:2237\u001b[0m, in \u001b[0;36mAccelerator.backward\u001b[1;34m(self, loss, **kwargs)\u001b[0m\n\u001b[0;32m   2235\u001b[0m     \u001b[38;5;28;01mreturn\u001b[39;00m\n\u001b[0;32m   2236\u001b[0m \u001b[38;5;28;01melif\u001b[39;00m \u001b[38;5;28mself\u001b[39m\u001b[38;5;241m.\u001b[39mscaler \u001b[38;5;129;01mis\u001b[39;00m \u001b[38;5;129;01mnot\u001b[39;00m \u001b[38;5;28;01mNone\u001b[39;00m:\n\u001b[1;32m-> 2237\u001b[0m     \u001b[38;5;28mself\u001b[39m\u001b[38;5;241m.\u001b[39mscaler\u001b[38;5;241m.\u001b[39mscale(loss)\u001b[38;5;241m.\u001b[39mbackward(\u001b[38;5;241m*\u001b[39m\u001b[38;5;241m*\u001b[39mkwargs)\n\u001b[0;32m   2238\u001b[0m \u001b[38;5;28;01melif\u001b[39;00m learning_rate \u001b[38;5;129;01mis\u001b[39;00m \u001b[38;5;129;01mnot\u001b[39;00m \u001b[38;5;28;01mNone\u001b[39;00m \u001b[38;5;129;01mand\u001b[39;00m \u001b[38;5;28mself\u001b[39m\u001b[38;5;241m.\u001b[39mhas_lomo_optimizer:\n\u001b[0;32m   2239\u001b[0m     \u001b[38;5;28mself\u001b[39m\u001b[38;5;241m.\u001b[39mlomo_backward(loss, learning_rate)\n",
      "File \u001b[1;32mD:\\anaconda\\envs\\paper\\lib\\site-packages\\torch\\_tensor.py:581\u001b[0m, in \u001b[0;36mTensor.backward\u001b[1;34m(self, gradient, retain_graph, create_graph, inputs)\u001b[0m\n\u001b[0;32m    571\u001b[0m \u001b[38;5;28;01mif\u001b[39;00m has_torch_function_unary(\u001b[38;5;28mself\u001b[39m):\n\u001b[0;32m    572\u001b[0m     \u001b[38;5;28;01mreturn\u001b[39;00m handle_torch_function(\n\u001b[0;32m    573\u001b[0m         Tensor\u001b[38;5;241m.\u001b[39mbackward,\n\u001b[0;32m    574\u001b[0m         (\u001b[38;5;28mself\u001b[39m,),\n\u001b[1;32m   (...)\u001b[0m\n\u001b[0;32m    579\u001b[0m         inputs\u001b[38;5;241m=\u001b[39minputs,\n\u001b[0;32m    580\u001b[0m     )\n\u001b[1;32m--> 581\u001b[0m \u001b[43mtorch\u001b[49m\u001b[38;5;241;43m.\u001b[39;49m\u001b[43mautograd\u001b[49m\u001b[38;5;241;43m.\u001b[39;49m\u001b[43mbackward\u001b[49m\u001b[43m(\u001b[49m\n\u001b[0;32m    582\u001b[0m \u001b[43m    \u001b[49m\u001b[38;5;28;43mself\u001b[39;49m\u001b[43m,\u001b[49m\u001b[43m \u001b[49m\u001b[43mgradient\u001b[49m\u001b[43m,\u001b[49m\u001b[43m \u001b[49m\u001b[43mretain_graph\u001b[49m\u001b[43m,\u001b[49m\u001b[43m \u001b[49m\u001b[43mcreate_graph\u001b[49m\u001b[43m,\u001b[49m\u001b[43m \u001b[49m\u001b[43minputs\u001b[49m\u001b[38;5;241;43m=\u001b[39;49m\u001b[43minputs\u001b[49m\n\u001b[0;32m    583\u001b[0m \u001b[43m\u001b[49m\u001b[43m)\u001b[49m\n",
      "File \u001b[1;32mD:\\anaconda\\envs\\paper\\lib\\site-packages\\torch\\autograd\\__init__.py:347\u001b[0m, in \u001b[0;36mbackward\u001b[1;34m(tensors, grad_tensors, retain_graph, create_graph, grad_variables, inputs)\u001b[0m\n\u001b[0;32m    342\u001b[0m     retain_graph \u001b[38;5;241m=\u001b[39m create_graph\n\u001b[0;32m    344\u001b[0m \u001b[38;5;66;03m# The reason we repeat the same comment below is that\u001b[39;00m\n\u001b[0;32m    345\u001b[0m \u001b[38;5;66;03m# some Python versions print out the first line of a multi-line function\u001b[39;00m\n\u001b[0;32m    346\u001b[0m \u001b[38;5;66;03m# calls in the traceback and some print out the last line\u001b[39;00m\n\u001b[1;32m--> 347\u001b[0m \u001b[43m_engine_run_backward\u001b[49m\u001b[43m(\u001b[49m\n\u001b[0;32m    348\u001b[0m \u001b[43m    \u001b[49m\u001b[43mtensors\u001b[49m\u001b[43m,\u001b[49m\n\u001b[0;32m    349\u001b[0m \u001b[43m    \u001b[49m\u001b[43mgrad_tensors_\u001b[49m\u001b[43m,\u001b[49m\n\u001b[0;32m    350\u001b[0m \u001b[43m    \u001b[49m\u001b[43mretain_graph\u001b[49m\u001b[43m,\u001b[49m\n\u001b[0;32m    351\u001b[0m \u001b[43m    \u001b[49m\u001b[43mcreate_graph\u001b[49m\u001b[43m,\u001b[49m\n\u001b[0;32m    352\u001b[0m \u001b[43m    \u001b[49m\u001b[43minputs\u001b[49m\u001b[43m,\u001b[49m\n\u001b[0;32m    353\u001b[0m \u001b[43m    \u001b[49m\u001b[43mallow_unreachable\u001b[49m\u001b[38;5;241;43m=\u001b[39;49m\u001b[38;5;28;43;01mTrue\u001b[39;49;00m\u001b[43m,\u001b[49m\n\u001b[0;32m    354\u001b[0m \u001b[43m    \u001b[49m\u001b[43maccumulate_grad\u001b[49m\u001b[38;5;241;43m=\u001b[39;49m\u001b[38;5;28;43;01mTrue\u001b[39;49;00m\u001b[43m,\u001b[49m\n\u001b[0;32m    355\u001b[0m \u001b[43m\u001b[49m\u001b[43m)\u001b[49m\n",
      "File \u001b[1;32mD:\\anaconda\\envs\\paper\\lib\\site-packages\\torch\\autograd\\graph.py:825\u001b[0m, in \u001b[0;36m_engine_run_backward\u001b[1;34m(t_outputs, *args, **kwargs)\u001b[0m\n\u001b[0;32m    823\u001b[0m     unregister_hooks \u001b[38;5;241m=\u001b[39m _register_logging_hooks_on_whole_graph(t_outputs)\n\u001b[0;32m    824\u001b[0m \u001b[38;5;28;01mtry\u001b[39;00m:\n\u001b[1;32m--> 825\u001b[0m     \u001b[38;5;28;01mreturn\u001b[39;00m Variable\u001b[38;5;241m.\u001b[39m_execution_engine\u001b[38;5;241m.\u001b[39mrun_backward(  \u001b[38;5;66;03m# Calls into the C++ engine to run the backward pass\u001b[39;00m\n\u001b[0;32m    826\u001b[0m         t_outputs, \u001b[38;5;241m*\u001b[39margs, \u001b[38;5;241m*\u001b[39m\u001b[38;5;241m*\u001b[39mkwargs\n\u001b[0;32m    827\u001b[0m     )  \u001b[38;5;66;03m# Calls into the C++ engine to run the backward pass\u001b[39;00m\n\u001b[0;32m    828\u001b[0m \u001b[38;5;28;01mfinally\u001b[39;00m:\n\u001b[0;32m    829\u001b[0m     \u001b[38;5;28;01mif\u001b[39;00m attach_logging_hooks:\n",
      "\u001b[1;31mRuntimeError\u001b[0m: Function 'MseLossBackward0' returned nan values in its 0th output."
     ]
    }
   ],
   "source": [
    "args = (config, model, noise_scheduler, optimizer, train_loader, lr_scheduler)\n",
    "\n",
    "notebook_launcher(train_loop, args, num_processes=1)\n",
    "#num_processes: This should be set to the number of processes (GPUs) you want to use.\n"
   ]
  },
  {
   "cell_type": "code",
   "execution_count": null,
   "id": "1dbbb877-692a-48c5-bf8b-ecbbbdf5510b",
   "metadata": {},
   "outputs": [],
   "source": [
    "trained_model = DiffusionPipeline.from_pretrained(\"output_dir\").unet.to(\"cuda\")\n",
    "def show(tensor):\n",
    "    return Image.fromarray((tensor.permute(0, 2, 3, 1) * 255.0).type(torch.uint8).numpy()[0])\n",
    "\n",
    "#show(sample_image)\n"
   ]
  },
  {
   "cell_type": "code",
   "execution_count": null,
   "id": "717635e0-8692-4bde-b41b-924ea4f2dadd",
   "metadata": {},
   "outputs": [],
   "source": [
    "device = torch.device(\"cuda\" if torch.cuda.is_available() else \"cpu\")\n",
    "# Add noise\n",
    "noise_level = 100 #50\n",
    "\n",
    "def noise(img, t):\n",
    "    noise = torch.randn(img.shape)#.to(device)\n",
    "    timesteps = torch.LongTensor([t])#.to(device)\n",
    "    noisy_image = noise_scheduler.add_noise(img, noise, timesteps)\n",
    "    return noisy_image\n",
    "\n",
    "noisy_image = noise(sample_image, noise_level)\n",
    "print(sample_image.size)\n",
    "print(noisy_image.shape)\n",
    "save_image(noisy_image, \"denoised_images/noisy_image.png\")\n",
    "#show(noisy_image)"
   ]
  },
  {
   "cell_type": "code",
   "execution_count": null,
   "id": "8557a5ee-c14a-4d4c-b8da-964ab77ed68a",
   "metadata": {},
   "outputs": [],
   "source": [
    "@torch.no_grad()\n",
    "def denoise(img, ts, progress=True):\n",
    "    noise_scheduler.set_timesteps(1000)\n",
    "    img_reconstruct = img[0].unsqueeze(0).to(\"cuda\")\n",
    "    #img_reconstruct = img.reshape(1, 3, config.image_size, config.image_size).to(\"cuda\")\n",
    "\n",
    "    for t in tqdm(noise_scheduler.timesteps[-ts:], disable=not progress):\n",
    "        # 1. predict noise model_output\n",
    "        model_output = trained_model(img_reconstruct, t).sample\n",
    "\n",
    "        # 2. compute previous img_reconstruct: x_t -> x_t-1\n",
    "        img_reconstruct = noise_scheduler.step(model_output, t, img_reconstruct).prev_sample\n",
    "        #print(reconstructed)\n",
    "    return img_reconstruct\n",
    "\n",
    "\n",
    "img_reconstruct = denoise(noisy_image, noise_level)"
   ]
  },
  {
   "cell_type": "code",
   "execution_count": null,
   "id": "6e43177b-0236-40c0-9bf3-0668929f1c03",
   "metadata": {},
   "outputs": [],
   "source": [
    "reconstructed = img_reconstruct.detach().cpu()\n",
    "print(type(reconstructed))\n",
    "#reconstructed.save(\"denoised_images\")\n",
    "save_image(reconstructed, \"denoised_images/saved_image.png\")\n",
    "#show(reconstructed)"
   ]
  },
  {
   "cell_type": "code",
   "execution_count": null,
   "id": "35ffed9d-ea66-4398-80e7-13895cf2a830",
   "metadata": {},
   "outputs": [],
   "source": [
    "fig, axs = plt.subplots(1, 3, figsize=(16, 4))\n",
    "\n",
    "images = dict(\n",
    "    sample_image=sample_image,\n",
    "    noisy_image=noisy_image,\n",
    "    reconstructed=reconstructed,\n",
    ")\n",
    "\n",
    "for i, (title, image) in enumerate(images.items()):\n",
    "    axs[i].imshow(show(image))\n",
    "    axs[i].set_axis_off()\n",
    "    axs[i].set_title(title)\n",
    "fig.suptitle(f\"Reconstruction at $t=${noise_level}\", fontsize=14);"
   ]
  },
  {
   "cell_type": "code",
   "execution_count": null,
   "id": "cb950a10-2399-45d5-a4ca-7240d9bae9d1",
   "metadata": {},
   "outputs": [],
   "source": [
    "def noise(img, t):\n",
    "    noise = torch.randn(img.shape)#.to(device)\n",
    "    timesteps = torch.LongTensor([t])#.to(device)\n",
    "    noisy_image = noise_scheduler.add_noise(img, noise, timesteps)\n",
    "    return noisy_image"
   ]
  },
  {
   "cell_type": "code",
   "execution_count": null,
   "id": "c6289078-d7f3-4b4d-927b-601fb7c6c399",
   "metadata": {},
   "outputs": [],
   "source": [
    "@torch.no_grad()\n",
    "def denoise(img, ts, progress=True):\n",
    "    noise_scheduler.set_timesteps(1_000)\n",
    "    img_reconstruct = img[0].unsqueeze(0).to(\"cuda\")\n",
    "    #img_reconstruct = img.reshape(1, 3, config.image_size, config.image_size).to(\"cuda\")\n",
    "\n",
    "    for t in tqdm(noise_scheduler.timesteps[-ts:], disable=not progress):\n",
    "        # 1. predict noise model_output\n",
    "        model_output = trained_model(img_reconstruct, t).sample\n",
    "\n",
    "        # 2. compute previous img_reconstruct: x_t -> x_t-1\n",
    "        img_reconstruct = noise_scheduler.step(model_output, t, img_reconstruct).prev_sample\n",
    "\n",
    "    return img_reconstruct\n"
   ]
  },
  {
   "cell_type": "code",
   "execution_count": null,
   "id": "42984a6f-691f-4f92-994a-325ec7a175db",
   "metadata": {},
   "outputs": [],
   "source": [
    "noise_level = 100 #50\n",
    "from PIL import Image\n",
    "import shutil\n",
    "lst_dir=[]\n",
    "#test_loader = data.DataLoader(image_datasets['train'], batch_size=config.test_batch_size, shuffle=True, num_workers=config.workers)\n",
    "for idx, (originImg, label) in enumerate(image_datasets['train']):\n",
    "        file_path = image_datasets['train'].samples[idx][0]\n",
    "        file_name = os.path.splitext(os.path.basename(file_path))[0]    #[0]\n",
    "        originImg=originImg.unsqueeze(0)\n",
    "        os.makedirs(\"clean_dataset\", exist_ok=True)\n",
    "        noisy_image = noise(originImg, noise_level)\n",
    "        img_reconstruct = denoise(noisy_image, noise_level)\n",
    "        reconstructed = img_reconstruct.detach().cpu()\n",
    "        folder_path = os.path.join('/scratch/project_2012241/mnist' , 'train') \n",
    "        newfile= file_name\n",
    "        lst_dir.append(newfile)\n",
    "        os.makedirs(folder_path + \"\\\\\" + newfile, exist_ok=True)\n",
    "        newfolder=os.path.join(folder_path,newfile)\n",
    "        Image.fromarray((noisy_image.permute(0, 2, 3, 1) * 255).type(torch.uint8).numpy()[0])\n",
    "        image_path = os.path.join(newfolder, file_name + \".png\")\n",
    "        save_image(reconstructed, image_path)\n",
    "        os.makedirs(folder_path + \"\\\\\" + newfile, exist_ok=True)\n",
    "        newfolder=os.path.join(folder_path,newfile)\n",
    "        image_path = os.path.join(newfolder, file_name + \".png\")\n",
    "        save_image(reconstructed, image_path)\n"
   ]
  }
 ],
 "metadata": {
  "kernelspec": {
   "display_name": "Python_paper",
   "language": "python",
   "name": "python3"
  },
  "language_info": {
   "codemirror_mode": {
    "name": "ipython",
    "version": 3
   },
   "file_extension": ".py",
   "mimetype": "text/x-python",
   "name": "python",
   "nbconvert_exporter": "python",
   "pygments_lexer": "ipython3",
   "version": "3.9.20"
  }
 },
 "nbformat": 4,
 "nbformat_minor": 5
}
